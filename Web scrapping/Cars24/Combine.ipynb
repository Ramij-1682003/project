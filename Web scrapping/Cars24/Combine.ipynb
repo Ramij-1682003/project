{
  "nbformat": 4,
  "nbformat_minor": 0,
  "metadata": {
    "colab": {
      "provenance": []
    },
    "kernelspec": {
      "name": "python3",
      "display_name": "Python 3"
    },
    "language_info": {
      "name": "python"
    }
  },
  "cells": [
    {
      "cell_type": "code",
      "execution_count": 3,
      "metadata": {
        "colab": {
          "base_uri": "https://localhost:8080/"
        },
        "id": "fSvXy1NGj_6Q",
        "outputId": "155ebc97-7bca-4ec9-ba87-ba9eb57355e5"
      },
      "outputs": [
        {
          "output_type": "stream",
          "name": "stdout",
          "text": [
            "Requirement already satisfied: playwright in /usr/local/lib/python3.12/dist-packages (1.55.0)\n",
            "Requirement already satisfied: pyee<14,>=13 in /usr/local/lib/python3.12/dist-packages (from playwright) (13.0.0)\n",
            "Requirement already satisfied: greenlet<4.0.0,>=3.1.1 in /usr/local/lib/python3.12/dist-packages (from playwright) (3.2.4)\n",
            "Requirement already satisfied: typing-extensions in /usr/local/lib/python3.12/dist-packages (from pyee<14,>=13->playwright) (4.15.0)\n"
          ]
        }
      ],
      "source": [
        "!pip install playwright\n",
        "\n"
      ]
    },
    {
      "cell_type": "code",
      "source": [
        "!playwright install"
      ],
      "metadata": {
        "colab": {
          "base_uri": "https://localhost:8080/"
        },
        "id": "KWFbJainkeFU",
        "outputId": "fd36e61f-65fd-4174-9e4b-5d149ed32e51"
      },
      "execution_count": 4,
      "outputs": [
        {
          "output_type": "stream",
          "name": "stdout",
          "text": [
            "Downloading Chromium 140.0.7339.16 (playwright build v1187)\u001b[2m from https://cdn.playwright.dev/dbazure/download/playwright/builds/chromium/1187/chromium-linux.zip\u001b[22m\n",
            "\u001b[1G173.7 MiB [] 0% 0.0s\u001b[0K\u001b[1G173.7 MiB [] 0% 63.0s\u001b[0K\u001b[1G173.7 MiB [] 0% 48.6s\u001b[0K\u001b[1G173.7 MiB [] 0% 58.0s\u001b[0K\u001b[1G173.7 MiB [] 0% 31.3s\u001b[0K\u001b[1G173.7 MiB [] 0% 22.5s\u001b[0K\u001b[1G173.7 MiB [] 0% 18.0s\u001b[0K\u001b[1G173.7 MiB [] 0% 14.4s\u001b[0K\u001b[1G173.7 MiB [] 1% 11.5s\u001b[0K\u001b[1G173.7 MiB [] 1% 10.6s\u001b[0K\u001b[1G173.7 MiB [] 1% 9.8s\u001b[0K\u001b[1G173.7 MiB [] 1% 9.4s\u001b[0K\u001b[1G173.7 MiB [] 2% 9.2s\u001b[0K\u001b[1G173.7 MiB [] 2% 8.3s\u001b[0K\u001b[1G173.7 MiB [] 3% 7.7s\u001b[0K\u001b[1G173.7 MiB [] 3% 7.2s\u001b[0K\u001b[1G173.7 MiB [] 3% 6.8s\u001b[0K\u001b[1G173.7 MiB [] 4% 6.6s\u001b[0K\u001b[1G173.7 MiB [] 4% 6.3s\u001b[0K\u001b[1G173.7 MiB [] 4% 6.2s\u001b[0K\u001b[1G173.7 MiB [] 5% 6.1s\u001b[0K\u001b[1G173.7 MiB [] 5% 6.4s\u001b[0K\u001b[1G173.7 MiB [] 6% 6.3s\u001b[0K\u001b[1G173.7 MiB [] 7% 6.1s\u001b[0K\u001b[1G173.7 MiB [] 7% 6.0s\u001b[0K\u001b[1G173.7 MiB [] 7% 5.9s\u001b[0K\u001b[1G173.7 MiB [] 8% 5.7s\u001b[0K\u001b[1G173.7 MiB [] 8% 5.8s\u001b[0K\u001b[1G173.7 MiB [] 8% 5.9s\u001b[0K\u001b[1G173.7 MiB [] 9% 6.0s\u001b[0K\u001b[1G173.7 MiB [] 9% 5.9s\u001b[0K\u001b[1G173.7 MiB [] 9% 5.8s\u001b[0K\u001b[1G173.7 MiB [] 10% 5.7s\u001b[0K\u001b[1G173.7 MiB [] 10% 5.6s\u001b[0K\u001b[1G173.7 MiB [] 10% 5.7s\u001b[0K\u001b[1G173.7 MiB [] 11% 5.6s\u001b[0K\u001b[1G173.7 MiB [] 11% 5.4s\u001b[0K\u001b[1G173.7 MiB [] 12% 5.4s\u001b[0K\u001b[1G173.7 MiB [] 12% 5.3s\u001b[0K\u001b[1G173.7 MiB [] 13% 5.2s\u001b[0K\u001b[1G173.7 MiB [] 14% 5.1s\u001b[0K\u001b[1G173.7 MiB [] 14% 5.0s\u001b[0K\u001b[1G173.7 MiB [] 15% 4.9s\u001b[0K\u001b[1G173.7 MiB [] 16% 4.7s\u001b[0K\u001b[1G173.7 MiB [] 17% 4.5s\u001b[0K\u001b[1G173.7 MiB [] 17% 4.4s\u001b[0K\u001b[1G173.7 MiB [] 18% 4.4s\u001b[0K\u001b[1G173.7 MiB [] 18% 4.3s\u001b[0K\u001b[1G173.7 MiB [] 19% 4.2s\u001b[0K\u001b[1G173.7 MiB [] 20% 4.2s\u001b[0K\u001b[1G173.7 MiB [] 21% 4.2s\u001b[0K\u001b[1G173.7 MiB [] 21% 4.1s\u001b[0K\u001b[1G173.7 MiB [] 22% 4.0s\u001b[0K\u001b[1G173.7 MiB [] 23% 3.8s\u001b[0K\u001b[1G173.7 MiB [] 24% 3.6s\u001b[0K\u001b[1G173.7 MiB [] 25% 3.5s\u001b[0K\u001b[1G173.7 MiB [] 26% 3.5s\u001b[0K\u001b[1G173.7 MiB [] 27% 3.4s\u001b[0K\u001b[1G173.7 MiB [] 28% 3.2s\u001b[0K\u001b[1G173.7 MiB [] 30% 3.1s\u001b[0K\u001b[1G173.7 MiB [] 31% 2.9s\u001b[0K\u001b[1G173.7 MiB [] 32% 2.8s\u001b[0K\u001b[1G173.7 MiB [] 33% 2.7s\u001b[0K\u001b[1G173.7 MiB [] 35% 2.5s\u001b[0K\u001b[1G173.7 MiB [] 36% 2.4s\u001b[0K\u001b[1G173.7 MiB [] 38% 2.3s\u001b[0K\u001b[1G173.7 MiB [] 39% 2.2s\u001b[0K\u001b[1G173.7 MiB [] 41% 2.1s\u001b[0K\u001b[1G173.7 MiB [] 41% 2.0s\u001b[0K\u001b[1G173.7 MiB [] 43% 1.9s\u001b[0K\u001b[1G173.7 MiB [] 45% 1.8s\u001b[0K\u001b[1G173.7 MiB [] 47% 1.7s\u001b[0K\u001b[1G173.7 MiB [] 48% 1.6s\u001b[0K\u001b[1G173.7 MiB [] 50% 1.5s\u001b[0K\u001b[1G173.7 MiB [] 51% 1.5s\u001b[0K\u001b[1G173.7 MiB [] 53% 1.4s\u001b[0K\u001b[1G173.7 MiB [] 55% 1.3s\u001b[0K\u001b[1G173.7 MiB [] 57% 1.2s\u001b[0K\u001b[1G173.7 MiB [] 58% 1.2s\u001b[0K\u001b[1G173.7 MiB [] 59% 1.1s\u001b[0K\u001b[1G173.7 MiB [] 60% 1.1s\u001b[0K\u001b[1G173.7 MiB [] 62% 1.0s\u001b[0K\u001b[1G173.7 MiB [] 64% 1.0s\u001b[0K\u001b[1G173.7 MiB [] 65% 0.9s\u001b[0K\u001b[1G173.7 MiB [] 66% 0.9s\u001b[0K\u001b[1G173.7 MiB [] 67% 0.9s\u001b[0K\u001b[1G173.7 MiB [] 68% 0.8s\u001b[0K\u001b[1G173.7 MiB [] 69% 0.8s\u001b[0K\u001b[1G173.7 MiB [] 70% 0.8s\u001b[0K\u001b[1G173.7 MiB [] 71% 0.8s\u001b[0K\u001b[1G173.7 MiB [] 72% 0.7s\u001b[0K\u001b[1G173.7 MiB [] 73% 0.7s\u001b[0K\u001b[1G173.7 MiB [] 74% 0.7s\u001b[0K\u001b[1G173.7 MiB [] 75% 0.6s\u001b[0K\u001b[1G173.7 MiB [] 76% 0.6s\u001b[0K\u001b[1G173.7 MiB [] 77% 0.6s\u001b[0K\u001b[1G173.7 MiB [] 78% 0.6s\u001b[0K\u001b[1G173.7 MiB [] 79% 0.5s\u001b[0K\u001b[1G173.7 MiB [] 80% 0.5s\u001b[0K\u001b[1G173.7 MiB [] 81% 0.5s\u001b[0K\u001b[1G173.7 MiB [] 82% 0.4s\u001b[0K\u001b[1G173.7 MiB [] 83% 0.4s\u001b[0K\u001b[1G173.7 MiB [] 84% 0.4s\u001b[0K\u001b[1G173.7 MiB [] 85% 0.4s\u001b[0K\u001b[1G173.7 MiB [] 86% 0.3s\u001b[0K\u001b[1G173.7 MiB [] 87% 0.3s\u001b[0K\u001b[1G173.7 MiB [] 88% 0.3s\u001b[0K\u001b[1G173.7 MiB [] 89% 0.3s\u001b[0K\u001b[1G173.7 MiB [] 90% 0.2s\u001b[0K\u001b[1G173.7 MiB [] 91% 0.2s\u001b[0K\u001b[1G173.7 MiB [] 92% 0.2s\u001b[0K\u001b[1G173.7 MiB [] 93% 0.2s\u001b[0K\u001b[1G173.7 MiB [] 94% 0.1s\u001b[0K\u001b[1G173.7 MiB [] 95% 0.1s\u001b[0K\u001b[1G173.7 MiB [] 96% 0.1s\u001b[0K\u001b[1G173.7 MiB [] 97% 0.1s\u001b[0K\u001b[1G173.7 MiB [] 97% 0.0s\u001b[0K\u001b[1G173.7 MiB [] 98% 0.0s\u001b[0K\u001b[1G173.7 MiB [] 99% 0.0s\u001b[0K\u001b[1G173.7 MiB [] 100% 0.0s\u001b[0K\n",
            "Chromium 140.0.7339.16 (playwright build v1187) downloaded to /root/.cache/ms-playwright/chromium-1187\n",
            "Downloading Chromium Headless Shell 140.0.7339.16 (playwright build v1187)\u001b[2m from https://cdn.playwright.dev/dbazure/download/playwright/builds/chromium/1187/chromium-headless-shell-linux.zip\u001b[22m\n",
            "\u001b[1G104.3 MiB [] 0% 0.0s\u001b[0K\u001b[1G104.3 MiB [] 0% 31.7s\u001b[0K\u001b[1G104.3 MiB [] 0% 32.1s\u001b[0K\u001b[1G104.3 MiB [] 0% 20.6s\u001b[0K\u001b[1G104.3 MiB [] 0% 13.6s\u001b[0K\u001b[1G104.3 MiB [] 0% 9.8s\u001b[0K\u001b[1G104.3 MiB [] 1% 6.5s\u001b[0K\u001b[1G104.3 MiB [] 2% 4.6s\u001b[0K\u001b[1G104.3 MiB [] 3% 3.9s\u001b[0K\u001b[1G104.3 MiB [] 4% 3.4s\u001b[0K\u001b[1G104.3 MiB [] 5% 3.0s\u001b[0K\u001b[1G104.3 MiB [] 6% 2.7s\u001b[0K\u001b[1G104.3 MiB [] 7% 2.5s\u001b[0K\u001b[1G104.3 MiB [] 8% 2.4s\u001b[0K\u001b[1G104.3 MiB [] 9% 2.4s\u001b[0K\u001b[1G104.3 MiB [] 9% 2.6s\u001b[0K\u001b[1G104.3 MiB [] 9% 2.5s\u001b[0K\u001b[1G104.3 MiB [] 10% 2.5s\u001b[0K\u001b[1G104.3 MiB [] 11% 2.4s\u001b[0K\u001b[1G104.3 MiB [] 12% 2.3s\u001b[0K\u001b[1G104.3 MiB [] 14% 2.2s\u001b[0K\u001b[1G104.3 MiB [] 15% 2.2s\u001b[0K\u001b[1G104.3 MiB [] 16% 2.2s\u001b[0K\u001b[1G104.3 MiB [] 17% 2.1s\u001b[0K\u001b[1G104.3 MiB [] 18% 1.9s\u001b[0K\u001b[1G104.3 MiB [] 19% 1.9s\u001b[0K\u001b[1G104.3 MiB [] 21% 1.8s\u001b[0K\u001b[1G104.3 MiB [] 23% 1.7s\u001b[0K\u001b[1G104.3 MiB [] 25% 1.6s\u001b[0K\u001b[1G104.3 MiB [] 27% 1.4s\u001b[0K\u001b[1G104.3 MiB [] 29% 1.3s\u001b[0K\u001b[1G104.3 MiB [] 31% 1.3s\u001b[0K\u001b[1G104.3 MiB [] 33% 1.2s\u001b[0K\u001b[1G104.3 MiB [] 35% 1.1s\u001b[0K\u001b[1G104.3 MiB [] 38% 1.0s\u001b[0K\u001b[1G104.3 MiB [] 39% 1.0s\u001b[0K\u001b[1G104.3 MiB [] 42% 0.9s\u001b[0K\u001b[1G104.3 MiB [] 43% 0.9s\u001b[0K\u001b[1G104.3 MiB [] 45% 0.9s\u001b[0K\u001b[1G104.3 MiB [] 47% 0.8s\u001b[0K\u001b[1G104.3 MiB [] 50% 0.7s\u001b[0K\u001b[1G104.3 MiB [] 52% 0.7s\u001b[0K\u001b[1G104.3 MiB [] 54% 0.6s\u001b[0K\u001b[1G104.3 MiB [] 56% 0.6s\u001b[0K\u001b[1G104.3 MiB [] 59% 0.6s\u001b[0K\u001b[1G104.3 MiB [] 61% 0.5s\u001b[0K\u001b[1G104.3 MiB [] 64% 0.5s\u001b[0K\u001b[1G104.3 MiB [] 66% 0.4s\u001b[0K\u001b[1G104.3 MiB [] 67% 0.4s\u001b[0K\u001b[1G104.3 MiB [] 69% 0.4s\u001b[0K\u001b[1G104.3 MiB [] 70% 0.4s\u001b[0K\u001b[1G104.3 MiB [] 72% 0.3s\u001b[0K\u001b[1G104.3 MiB [] 75% 0.3s\u001b[0K\u001b[1G104.3 MiB [] 77% 0.3s\u001b[0K\u001b[1G104.3 MiB [] 80% 0.2s\u001b[0K\u001b[1G104.3 MiB [] 83% 0.2s\u001b[0K\u001b[1G104.3 MiB [] 85% 0.2s\u001b[0K\u001b[1G104.3 MiB [] 87% 0.1s\u001b[0K\u001b[1G104.3 MiB [] 90% 0.1s\u001b[0K\u001b[1G104.3 MiB [] 92% 0.1s\u001b[0K\u001b[1G104.3 MiB [] 94% 0.1s\u001b[0K\u001b[1G104.3 MiB [] 96% 0.0s\u001b[0K\u001b[1G104.3 MiB [] 97% 0.0s\u001b[0K\u001b[1G104.3 MiB [] 99% 0.0s\u001b[0K\u001b[1G104.3 MiB [] 100% 0.0s\u001b[0K\n",
            "Chromium Headless Shell 140.0.7339.16 (playwright build v1187) downloaded to /root/.cache/ms-playwright/chromium_headless_shell-1187\n",
            "Downloading Firefox 141.0 (playwright build v1490)\u001b[2m from https://cdn.playwright.dev/dbazure/download/playwright/builds/firefox/1490/firefox-ubuntu-22.04.zip\u001b[22m\n",
            "\u001b[1G96 MiB [] 0% 0.0s\u001b[0K\u001b[1G96 MiB [] 0% 44.5s\u001b[0K\u001b[1G96 MiB [] 0% 27.6s\u001b[0K\u001b[1G96 MiB [] 0% 16.2s\u001b[0K\u001b[1G96 MiB [] 0% 15.9s\u001b[0K\u001b[1G96 MiB [] 0% 18.1s\u001b[0K\u001b[1G96 MiB [] 0% 21.7s\u001b[0K\u001b[1G96 MiB [] 0% 24.6s\u001b[0K\u001b[1G96 MiB [] 0% 25.3s\u001b[0K\u001b[1G96 MiB [] 2% 8.8s\u001b[0K\u001b[1G96 MiB [] 3% 5.9s\u001b[0K\u001b[1G96 MiB [] 5% 4.3s\u001b[0K\u001b[1G96 MiB [] 7% 3.4s\u001b[0K\u001b[1G96 MiB [] 8% 3.0s\u001b[0K\u001b[1G96 MiB [] 10% 2.7s\u001b[0K\u001b[1G96 MiB [] 11% 2.5s\u001b[0K\u001b[1G96 MiB [] 12% 2.4s\u001b[0K\u001b[1G96 MiB [] 13% 2.3s\u001b[0K\u001b[1G96 MiB [] 14% 2.1s\u001b[0K\u001b[1G96 MiB [] 16% 2.0s\u001b[0K\u001b[1G96 MiB [] 17% 1.9s\u001b[0K\u001b[1G96 MiB [] 19% 1.8s\u001b[0K\u001b[1G96 MiB [] 21% 1.6s\u001b[0K\u001b[1G96 MiB [] 23% 1.5s\u001b[0K\u001b[1G96 MiB [] 25% 1.4s\u001b[0K\u001b[1G96 MiB [] 28% 1.3s\u001b[0K\u001b[1G96 MiB [] 30% 1.2s\u001b[0K\u001b[1G96 MiB [] 32% 1.1s\u001b[0K\u001b[1G96 MiB [] 34% 1.0s\u001b[0K\u001b[1G96 MiB [] 35% 1.0s\u001b[0K\u001b[1G96 MiB [] 38% 0.9s\u001b[0K\u001b[1G96 MiB [] 41% 0.9s\u001b[0K\u001b[1G96 MiB [] 42% 0.8s\u001b[0K\u001b[1G96 MiB [] 45% 0.8s\u001b[0K\u001b[1G96 MiB [] 47% 0.7s\u001b[0K\u001b[1G96 MiB [] 49% 0.7s\u001b[0K\u001b[1G96 MiB [] 50% 0.7s\u001b[0K\u001b[1G96 MiB [] 52% 0.7s\u001b[0K\u001b[1G96 MiB [] 53% 0.6s\u001b[0K\u001b[1G96 MiB [] 56% 0.6s\u001b[0K\u001b[1G96 MiB [] 58% 0.5s\u001b[0K\u001b[1G96 MiB [] 61% 0.5s\u001b[0K\u001b[1G96 MiB [] 64% 0.4s\u001b[0K\u001b[1G96 MiB [] 67% 0.4s\u001b[0K\u001b[1G96 MiB [] 69% 0.4s\u001b[0K\u001b[1G96 MiB [] 72% 0.3s\u001b[0K\u001b[1G96 MiB [] 75% 0.3s\u001b[0K\u001b[1G96 MiB [] 77% 0.3s\u001b[0K\u001b[1G96 MiB [] 80% 0.2s\u001b[0K\u001b[1G96 MiB [] 83% 0.2s\u001b[0K\u001b[1G96 MiB [] 85% 0.2s\u001b[0K\u001b[1G96 MiB [] 88% 0.1s\u001b[0K\u001b[1G96 MiB [] 90% 0.1s\u001b[0K\u001b[1G96 MiB [] 93% 0.1s\u001b[0K\u001b[1G96 MiB [] 96% 0.0s\u001b[0K\u001b[1G96 MiB [] 98% 0.0s\u001b[0K\u001b[1G96 MiB [] 99% 0.0s\u001b[0K\u001b[1G96 MiB [] 100% 0.0s\u001b[0K\n",
            "Firefox 141.0 (playwright build v1490) downloaded to /root/.cache/ms-playwright/firefox-1490\n",
            "Downloading Webkit 26.0 (playwright build v2203)\u001b[2m from https://cdn.playwright.dev/dbazure/download/playwright/builds/webkit/2203/webkit-ubuntu-22.04.zip\u001b[22m\n",
            "\u001b[1G94.6 MiB [] 0% 0.0s\u001b[0K\u001b[1G94.6 MiB [] 0% 36.1s\u001b[0K\u001b[1G94.6 MiB [] 0% 33.7s\u001b[0K\u001b[1G94.6 MiB [] 0% 25.7s\u001b[0K\u001b[1G94.6 MiB [] 0% 16.1s\u001b[0K\u001b[1G94.6 MiB [] 0% 9.9s\u001b[0K\u001b[1G94.6 MiB [] 1% 6.0s\u001b[0K\u001b[1G94.6 MiB [] 2% 3.9s\u001b[0K\u001b[1G94.6 MiB [] 4% 2.7s\u001b[0K\u001b[1G94.6 MiB [] 6% 2.1s\u001b[0K\u001b[1G94.6 MiB [] 8% 1.8s\u001b[0K\u001b[1G94.6 MiB [] 10% 1.6s\u001b[0K\u001b[1G94.6 MiB [] 11% 1.6s\u001b[0K\u001b[1G94.6 MiB [] 12% 1.5s\u001b[0K\u001b[1G94.6 MiB [] 13% 1.4s\u001b[0K\u001b[1G94.6 MiB [] 16% 1.3s\u001b[0K\u001b[1G94.6 MiB [] 17% 1.2s\u001b[0K\u001b[1G94.6 MiB [] 18% 1.2s\u001b[0K\u001b[1G94.6 MiB [] 19% 1.2s\u001b[0K\u001b[1G94.6 MiB [] 22% 1.1s\u001b[0K\u001b[1G94.6 MiB [] 23% 1.1s\u001b[0K\u001b[1G94.6 MiB [] 25% 1.0s\u001b[0K\u001b[1G94.6 MiB [] 28% 0.9s\u001b[0K\u001b[1G94.6 MiB [] 30% 0.8s\u001b[0K\u001b[1G94.6 MiB [] 32% 0.8s\u001b[0K\u001b[1G94.6 MiB [] 34% 0.8s\u001b[0K\u001b[1G94.6 MiB [] 36% 0.8s\u001b[0K\u001b[1G94.6 MiB [] 38% 0.7s\u001b[0K\u001b[1G94.6 MiB [] 40% 0.7s\u001b[0K\u001b[1G94.6 MiB [] 42% 0.6s\u001b[0K\u001b[1G94.6 MiB [] 44% 0.6s\u001b[0K\u001b[1G94.6 MiB [] 47% 0.6s\u001b[0K\u001b[1G94.6 MiB [] 50% 0.5s\u001b[0K\u001b[1G94.6 MiB [] 52% 0.5s\u001b[0K\u001b[1G94.6 MiB [] 54% 0.5s\u001b[0K\u001b[1G94.6 MiB [] 56% 0.5s\u001b[0K\u001b[1G94.6 MiB [] 58% 0.4s\u001b[0K\u001b[1G94.6 MiB [] 60% 0.4s\u001b[0K\u001b[1G94.6 MiB [] 63% 0.4s\u001b[0K\u001b[1G94.6 MiB [] 65% 0.4s\u001b[0K\u001b[1G94.6 MiB [] 67% 0.3s\u001b[0K\u001b[1G94.6 MiB [] 69% 0.3s\u001b[0K\u001b[1G94.6 MiB [] 71% 0.3s\u001b[0K\u001b[1G94.6 MiB [] 73% 0.3s\u001b[0K\u001b[1G94.6 MiB [] 75% 0.2s\u001b[0K\u001b[1G94.6 MiB [] 76% 0.2s\u001b[0K\u001b[1G94.6 MiB [] 79% 0.2s\u001b[0K\u001b[1G94.6 MiB [] 81% 0.2s\u001b[0K\u001b[1G94.6 MiB [] 83% 0.2s\u001b[0K\u001b[1G94.6 MiB [] 85% 0.1s\u001b[0K\u001b[1G94.6 MiB [] 86% 0.1s\u001b[0K\u001b[1G94.6 MiB [] 88% 0.1s\u001b[0K\u001b[1G94.6 MiB [] 89% 0.1s\u001b[0K\u001b[1G94.6 MiB [] 91% 0.1s\u001b[0K\u001b[1G94.6 MiB [] 93% 0.1s\u001b[0K\u001b[1G94.6 MiB [] 95% 0.0s\u001b[0K\u001b[1G94.6 MiB [] 97% 0.0s\u001b[0K\u001b[1G94.6 MiB [] 98% 0.0s\u001b[0K\u001b[1G94.6 MiB [] 100% 0.0s\u001b[0K\n",
            "Webkit 26.0 (playwright build v2203) downloaded to /root/.cache/ms-playwright/webkit-2203\n",
            "Downloading FFMPEG playwright build v1011\u001b[2m from https://cdn.playwright.dev/dbazure/download/playwright/builds/ffmpeg/1011/ffmpeg-linux.zip\u001b[22m\n",
            "\u001b[1G2.3 MiB [] 0% 0.0s\u001b[0K\u001b[1G2.3 MiB [] 2% 0.7s\u001b[0K\u001b[1G2.3 MiB [] 5% 0.6s\u001b[0K\u001b[1G2.3 MiB [] 11% 0.4s\u001b[0K\u001b[1G2.3 MiB [] 23% 0.2s\u001b[0K\u001b[1G2.3 MiB [] 54% 0.1s\u001b[0K\u001b[1G2.3 MiB [] 100% 0.0s\u001b[0K\n",
            "FFMPEG playwright build v1011 downloaded to /root/.cache/ms-playwright/ffmpeg-1011\n",
            "Playwright Host validation warning: \n",
            "╔══════════════════════════════════════════════════════╗\n",
            "║ Host system is missing dependencies to run browsers. ║\n",
            "║ Missing libraries:                                   ║\n",
            "║     libwoff2dec.so.1.0.2                             ║\n",
            "║     libgstgl-1.0.so.0                                ║\n",
            "║     libgstcodecparsers-1.0.so.0                      ║\n",
            "║     libavif.so.13                                    ║\n",
            "║     libharfbuzz-icu.so.0                             ║\n",
            "║     libenchant-2.so.2                                ║\n",
            "║     libsecret-1.so.0                                 ║\n",
            "║     libhyphen.so.0                                   ║\n",
            "║     libmanette-0.2.so.0                              ║\n",
            "╚══════════════════════════════════════════════════════╝\n",
            "    at validateDependenciesLinux (/usr/local/lib/python3.12/dist-packages/playwright/driver/package/lib/server/registry/dependencies.js:269:9)\n",
            "\u001b[90m    at process.processTicksAndRejections (node:internal/process/task_queues:105:5)\u001b[39m\n",
            "    at async Registry._validateHostRequirements (/usr/local/lib/python3.12/dist-packages/playwright/driver/package/lib/server/registry/index.js:934:14)\n",
            "    at async Registry._validateHostRequirementsForExecutableIfNeeded (/usr/local/lib/python3.12/dist-packages/playwright/driver/package/lib/server/registry/index.js:1056:7)\n",
            "    at async Registry.validateHostRequirementsForExecutablesIfNeeded (/usr/local/lib/python3.12/dist-packages/playwright/driver/package/lib/server/registry/index.js:1045:7)\n",
            "    at async i.<anonymous> (/usr/local/lib/python3.12/dist-packages/playwright/driver/package/lib/cli/program.js:217:7)\n"
          ]
        }
      ]
    },
    {
      "cell_type": "code",
      "source": [
        "!pip install selenium webdriver-manager\n"
      ],
      "metadata": {
        "colab": {
          "base_uri": "https://localhost:8080/"
        },
        "id": "wOvvUsxbkoht",
        "outputId": "4cc31e64-1d41-421a-fed5-d5ee55037b03"
      },
      "execution_count": 7,
      "outputs": [
        {
          "output_type": "stream",
          "name": "stdout",
          "text": [
            "Requirement already satisfied: selenium in /usr/local/lib/python3.12/dist-packages (4.35.0)\n",
            "Requirement already satisfied: webdriver-manager in /usr/local/lib/python3.12/dist-packages (4.0.2)\n",
            "Requirement already satisfied: urllib3<3.0,>=2.5.0 in /usr/local/lib/python3.12/dist-packages (from urllib3[socks]<3.0,>=2.5.0->selenium) (2.5.0)\n",
            "Requirement already satisfied: trio~=0.30.0 in /usr/local/lib/python3.12/dist-packages (from selenium) (0.30.0)\n",
            "Requirement already satisfied: trio-websocket~=0.12.2 in /usr/local/lib/python3.12/dist-packages (from selenium) (0.12.2)\n",
            "Requirement already satisfied: certifi>=2025.6.15 in /usr/local/lib/python3.12/dist-packages (from selenium) (2025.8.3)\n",
            "Requirement already satisfied: typing_extensions~=4.14.0 in /usr/local/lib/python3.12/dist-packages (from selenium) (4.14.1)\n",
            "Requirement already satisfied: websocket-client~=1.8.0 in /usr/local/lib/python3.12/dist-packages (from selenium) (1.8.0)\n",
            "Requirement already satisfied: requests in /usr/local/lib/python3.12/dist-packages (from webdriver-manager) (2.32.4)\n",
            "Requirement already satisfied: python-dotenv in /usr/local/lib/python3.12/dist-packages (from webdriver-manager) (1.1.1)\n",
            "Requirement already satisfied: packaging in /usr/local/lib/python3.12/dist-packages (from webdriver-manager) (25.0)\n",
            "Requirement already satisfied: attrs>=23.2.0 in /usr/local/lib/python3.12/dist-packages (from trio~=0.30.0->selenium) (25.3.0)\n",
            "Requirement already satisfied: sortedcontainers in /usr/local/lib/python3.12/dist-packages (from trio~=0.30.0->selenium) (2.4.0)\n",
            "Requirement already satisfied: idna in /usr/local/lib/python3.12/dist-packages (from trio~=0.30.0->selenium) (3.10)\n",
            "Requirement already satisfied: outcome in /usr/local/lib/python3.12/dist-packages (from trio~=0.30.0->selenium) (1.3.0.post0)\n",
            "Requirement already satisfied: sniffio>=1.3.0 in /usr/local/lib/python3.12/dist-packages (from trio~=0.30.0->selenium) (1.3.1)\n",
            "Requirement already satisfied: wsproto>=0.14 in /usr/local/lib/python3.12/dist-packages (from trio-websocket~=0.12.2->selenium) (1.2.0)\n",
            "Requirement already satisfied: pysocks!=1.5.7,<2.0,>=1.5.6 in /usr/local/lib/python3.12/dist-packages (from urllib3[socks]<3.0,>=2.5.0->selenium) (1.7.1)\n",
            "Requirement already satisfied: charset_normalizer<4,>=2 in /usr/local/lib/python3.12/dist-packages (from requests->webdriver-manager) (3.4.3)\n",
            "Requirement already satisfied: h11<1,>=0.9.0 in /usr/local/lib/python3.12/dist-packages (from wsproto>=0.14->trio-websocket~=0.12.2->selenium) (0.16.0)\n"
          ]
        }
      ]
    },
    {
      "cell_type": "code",
      "source": [
        "!pip install playwright\n",
        "!playwright install chromium\n"
      ],
      "metadata": {
        "id": "4UEl8vsCliEi",
        "outputId": "4867c15b-a5ff-4296-ad2e-06bec1ef3086",
        "colab": {
          "base_uri": "https://localhost:8080/"
        }
      },
      "execution_count": 31,
      "outputs": [
        {
          "output_type": "stream",
          "name": "stdout",
          "text": [
            "Requirement already satisfied: playwright in /usr/local/lib/python3.12/dist-packages (1.55.0)\n",
            "Requirement already satisfied: pyee<14,>=13 in /usr/local/lib/python3.12/dist-packages (from playwright) (13.0.0)\n",
            "Requirement already satisfied: greenlet<4.0.0,>=3.1.1 in /usr/local/lib/python3.12/dist-packages (from playwright) (3.2.4)\n",
            "Requirement already satisfied: typing-extensions in /usr/local/lib/python3.12/dist-packages (from pyee<14,>=13->playwright) (4.14.1)\n"
          ]
        }
      ]
    },
    {
      "cell_type": "code",
      "source": [
        "import asyncio\n",
        "from playwright.async_api import async_playwright\n",
        "\n",
        "async def main():\n",
        "    async with async_playwright() as p:\n",
        "        browser = await p.chromium.launch(headless=True)\n",
        "        page = await browser.new_page()\n",
        "        await page.goto(\"https://www.cars24.com/buy-used-kia-cars-mumbai/\")\n",
        "\n",
        "        # Get all Kia car links\n",
        "        links = await page.query_selector_all(\"a.styles_carCardWrapper__sXLIp\")\n",
        "        car_links = [await link.get_attribute(\"href\") for link in links if 'kia' in (await link.get_attribute(\"href\")).lower()]\n",
        "\n",
        "        print(f\"Found {len(car_links)} Kia car links\")\n",
        "        await browser.close()\n",
        "\n",
        "# Run the async function\n",
        "await main()\n"
      ],
      "metadata": {
        "id": "l1c1hvv8pPRn",
        "outputId": "17d247de-9a66-41b1-cc41-c27ac1905cce",
        "colab": {
          "base_uri": "https://localhost:8080/"
        }
      },
      "execution_count": 34,
      "outputs": [
        {
          "output_type": "stream",
          "name": "stdout",
          "text": [
            "Found 20 Kia car links\n"
          ]
        }
      ]
    },
    {
      "cell_type": "code",
      "source": [
        "import asyncio\n",
        "from playwright.async_api import async_playwright\n",
        "\n",
        "async def get_all_kia_links():\n",
        "    async with async_playwright() as p:\n",
        "        browser = await p.chromium.launch(headless=True)\n",
        "        page = await browser.new_page()\n",
        "        await page.goto(\"https://www.cars24.com/buy-used-kia-cars-mumbai/\")\n",
        "\n",
        "        car_links = set()\n",
        "        previous_count = 0\n",
        "        retries = 0\n",
        "\n",
        "        while retries < 5:  # stop if no new cars after 5 scrolls\n",
        "            # Scroll down\n",
        "            await page.evaluate(\"window.scrollBy(0, 1000)\")\n",
        "            await asyncio.sleep(2)  # wait for new cars to load\n",
        "\n",
        "            links = await page.query_selector_all(\"a.styles_carCardWrapper__sXLIp\")\n",
        "            for link in links:\n",
        "                href = await link.get_attribute(\"href\")\n",
        "                if href and 'kia' in href.lower():\n",
        "                    car_links.add(href)\n",
        "\n",
        "            if len(car_links) == previous_count:\n",
        "                retries += 1\n",
        "            else:\n",
        "                retries = 0\n",
        "                previous_count = len(car_links)\n",
        "\n",
        "        print(f\"Total Kia car links found: {len(car_links)}\")\n",
        "        await browser.close()\n",
        "        return list(car_links)\n",
        "\n",
        "# Run\n",
        "all_links = await get_all_kia_links()\n"
      ],
      "metadata": {
        "id": "mTnNSBO5pcI8",
        "outputId": "0aff7936-7931-411f-a976-828a9aa49a14",
        "colab": {
          "base_uri": "https://localhost:8080/"
        }
      },
      "execution_count": 36,
      "outputs": [
        {
          "output_type": "stream",
          "name": "stdout",
          "text": [
            "Total Kia car links found: 38\n"
          ]
        }
      ]
    },
    {
      "cell_type": "code",
      "source": [
        "import asyncio\n",
        "import re\n",
        "import pandas as pd\n",
        "from playwright.async_api import async_playwright\n",
        "\n",
        "# -------------------------\n",
        "# Utility Functions\n",
        "# -------------------------\n",
        "def clean_price_to_numerical(price_text):\n",
        "    if not price_text:\n",
        "        return None\n",
        "    try:\n",
        "        price_clean = price_text.replace(\"₹\", \"\").replace(\"â‚¹\", \"\").strip()\n",
        "        match = re.search(r\"([\\d\\.]+)\\s*(lakh|crore|cr)?\", price_clean.lower())\n",
        "        if match:\n",
        "            num = float(match.group(1))\n",
        "            unit = match.group(2)\n",
        "            if unit and \"lakh\" in unit:\n",
        "                return int(num * 100000)\n",
        "            elif unit and (\"crore\" in unit or \"cr\" in unit):\n",
        "                return int(num * 10000000)\n",
        "            else:\n",
        "                return int(num)\n",
        "        return None\n",
        "    except:\n",
        "        return None\n",
        "\n",
        "def clean_owners_to_numerical(owner_text):\n",
        "    if not owner_text:\n",
        "        return None\n",
        "    text = owner_text.lower()\n",
        "    mappings = {\n",
        "        '1st': 1, 'first': 1, '1': 1,\n",
        "        '2nd': 2, 'second': 2, '2': 2,\n",
        "        '3rd': 3, 'third': 3, '3': 3,\n",
        "        '4th': 4, 'fourth': 4, '4': 4,\n",
        "        '5th': 5, 'fifth': 5, '5': 5,\n",
        "        '6th': 6, 'sixth': 6, '6': 6\n",
        "    }\n",
        "    for k, v in mappings.items():\n",
        "        if k in text:\n",
        "            return v\n",
        "    m = re.search(r'(\\d+)', text)\n",
        "    if m:\n",
        "        return min(int(m.group(1)), 6)\n",
        "    return None\n",
        "\n",
        "def clean_km(val):\n",
        "    if not val:\n",
        "        return None\n",
        "    val = re.sub(r\"[^\\d]\", \"\", str(val))\n",
        "    return int(val) if val else None\n",
        "\n",
        "# -------------------------\n",
        "# Extract Details for a Car\n",
        "# -------------------------\n",
        "async def extract_car_details(page, link, city=\"Mumbai\"):\n",
        "    await page.goto(link)\n",
        "    await page.wait_for_timeout(2000)  # wait for page load\n",
        "\n",
        "    car = {\"location\": city, \"brand\": \"KIA\"}\n",
        "\n",
        "    # Title and Year\n",
        "    try:\n",
        "        title = await page.text_content(\"h1\")\n",
        "        car[\"title\"] = title\n",
        "        parts = title.split()\n",
        "        car[\"year\"] = parts[0] if parts[0].isdigit() else None\n",
        "    except:\n",
        "        car[\"title\"] = car[\"year\"] = None\n",
        "\n",
        "    # Price\n",
        "    try:\n",
        "        price_text = await page.text_content(\"p.sc-braxZu.hhzsvw\")\n",
        "        car[\"price_raw\"] = price_text\n",
        "        car[\"price_numerical\"] = clean_price_to_numerical(price_text)\n",
        "    except:\n",
        "        car[\"price_raw\"] = car[\"price_numerical\"] = None\n",
        "\n",
        "    # Specs: km, owners, transmission, fuel\n",
        "    try:\n",
        "        specs = await page.query_selector_all(\"p.kvfdZL\")\n",
        "        specs_list = [await s.text_content() for s in specs if (await s.text_content()).strip()]\n",
        "        if len(specs_list) >= 4:\n",
        "            car[\"km_driven\"] = specs_list[0]\n",
        "            car[\"owners_raw\"] = specs_list[1]\n",
        "            car[\"transmission\"] = specs_list[2]\n",
        "            car[\"fuel_type\"] = specs_list[3]\n",
        "            car[\"km_numerical\"] = clean_km(specs_list[0])\n",
        "            car[\"owners_num\"] = clean_owners_to_numerical(specs_list[1])\n",
        "    except:\n",
        "        car[\"km_driven\"] = car[\"owners_raw\"] = car[\"transmission\"] = car[\"fuel_type\"] = None\n",
        "        car[\"km_numerical\"] = car[\"owners_num\"] = None\n",
        "\n",
        "    return car\n",
        "\n",
        "# -------------------------\n",
        "# Main Scraper\n",
        "# -------------------------\n",
        "async def main():\n",
        "    async with async_playwright() as p:\n",
        "        browser = await p.chromium.launch(headless=True)\n",
        "        page = await browser.new_page()\n",
        "\n",
        "        # Get all Kia car links\n",
        "        car_links = await get_all_kia_links()  # reuse previous scrolling function\n",
        "\n",
        "        all_data = []\n",
        "        for i, link in enumerate(car_links, 1):\n",
        "            print(f\"Processing {i}/{len(car_links)}\")\n",
        "            try:\n",
        "                car = await extract_car_details(page, link)\n",
        "                all_data.append(car)\n",
        "            except Exception as e:\n",
        "                print(f\"Error processing {link}: {e}\")\n",
        "\n",
        "        await browser.close()\n",
        "\n",
        "        # Save to CSV\n",
        "        df = pd.DataFrame(all_data)\n",
        "        df.to_csv(\"Kia_Mumbai_Async.csv\", index=False)\n",
        "        print(\"Saved CSV with\", len(df), \"cars\")\n",
        "        print(df.head())\n",
        "\n",
        "# -------------------------\n",
        "# Run in Colab\n",
        "# -------------------------\n",
        "await main()\n"
      ],
      "metadata": {
        "id": "ZrNd5Lh9qHPm",
        "outputId": "b44bb5ba-2b93-4b69-a46d-574f5d52b263",
        "colab": {
          "base_uri": "https://localhost:8080/"
        }
      },
      "execution_count": 37,
      "outputs": [
        {
          "output_type": "stream",
          "name": "stdout",
          "text": [
            "Total Kia car links found: 38\n",
            "Processing 1/38\n",
            "Processing 2/38\n",
            "Processing 3/38\n",
            "Processing 4/38\n",
            "Processing 5/38\n",
            "Processing 6/38\n",
            "Processing 7/38\n",
            "Processing 8/38\n",
            "Processing 9/38\n",
            "Processing 10/38\n",
            "Processing 11/38\n",
            "Processing 12/38\n",
            "Processing 13/38\n",
            "Processing 14/38\n",
            "Processing 15/38\n",
            "Processing 16/38\n",
            "Processing 17/38\n",
            "Processing 18/38\n",
            "Processing 19/38\n",
            "Processing 20/38\n",
            "Processing 21/38\n",
            "Processing 22/38\n",
            "Processing 23/38\n",
            "Processing 24/38\n",
            "Processing 25/38\n",
            "Processing 26/38\n",
            "Processing 27/38\n",
            "Processing 28/38\n",
            "Processing 29/38\n",
            "Processing 30/38\n",
            "Processing 31/38\n",
            "Processing 32/38\n",
            "Processing 33/38\n",
            "Processing 34/38\n",
            "Processing 35/38\n",
            "Processing 36/38\n",
            "Processing 37/38\n",
            "Processing 38/38\n",
            "Saved CSV with 38 cars\n",
            "  location brand                                    title  year    price_raw  \\\n",
            "0   Mumbai   KIA           2020 KIA SELTOS HTX 1.5 PETROL  2020   ₹9.99 lakh   \n",
            "1   Mumbai   KIA  2023 KIA SELTOS  HTK PLUS 1.5 PETROL MT  2023  ₹11.45 lakh   \n",
            "2   Mumbai   KIA               2020 KIA SONET HTX 1.0 IMT  2020   ₹7.96 lakh   \n",
            "3   Mumbai   KIA           2021 KIA SONET HTK PLUS 1.5 AT  2021   ₹7.66 lakh   \n",
            "4   Mumbai   KIA         2022 KIA SELTOS HTK PLUS 1.5 IMT  2022     ₹11 lakh   \n",
            "\n",
            "   price_numerical  km_driven owners_raw transmission fuel_type  km_numerical  \\\n",
            "0           999000  45,073 km  2nd owner       Manual    Petrol         45073   \n",
            "1          1145000  14,972 km  1st owner       Manual    Petrol         14972   \n",
            "2           796000  22,084 km  1st owner       Manual    Petrol         22084   \n",
            "3           766000  50,291 km  2nd owner    Automatic    Diesel         50291   \n",
            "4          1100000  20,832 km  1st owner       Manual    Petrol         20832   \n",
            "\n",
            "   owners_num  \n",
            "0           2  \n",
            "1           1  \n",
            "2           1  \n",
            "3           2  \n",
            "4           1  \n"
          ]
        }
      ]
    }
  ]
}